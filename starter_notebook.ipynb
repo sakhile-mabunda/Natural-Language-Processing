{
  "nbformat": 4,
  "nbformat_minor": 0,
  "metadata": {
    "colab": {
      "name": "starter_notebook.ipynb",
      "provenance": [],
      "collapsed_sections": [],
      "include_colab_link": true
    },
    "kernelspec": {
      "display_name": "Python 3",
      "language": "python",
      "name": "python3"
    },
    "language_info": {
      "codemirror_mode": {
        "name": "ipython",
        "version": 3
      },
      "file_extension": ".py",
      "mimetype": "text/x-python",
      "name": "python",
      "nbconvert_exporter": "python",
      "pygments_lexer": "ipython3",
      "version": "3.7.9"
    },
    "accelerator": "GPU"
  },
  "cells": [
    {
      "cell_type": "markdown",
      "metadata": {
        "id": "view-in-github",
        "colab_type": "text"
      },
      "source": [
        "<a href=\"https://colab.research.google.com/github/sakhile-mabunda/Natural-Language-Processing/blob/master/starter_notebook.ipynb\" target=\"_parent\"><img src=\"https://colab.research.google.com/assets/colab-badge.svg\" alt=\"Open In Colab\"/></a>"
      ]
    },
    {
      "cell_type": "markdown",
      "metadata": {
        "id": "Igc5itf-xMGj"
      },
      "source": [
        "# Umsuka English - Isizulu Parallel Corpus\n",
        "\n",
        "## Research question: How do tokenization strategies affect machine translation performance?"
      ]
    },
    {
      "cell_type": "code",
      "metadata": {
        "colab": {
          "base_uri": "https://localhost:8080/"
        },
        "collapsed": true,
        "id": "oGRmDELn7Az0",
        "outputId": "0f063e4c-3f25-4997-e6ec-4dbf6e643921"
      },
      "source": [
        "from google.colab import drive\n",
        "drive.flush_and_unmount()\n",
        "drive.mount('/content/drive')"
      ],
      "execution_count": 1,
      "outputs": [
        {
          "output_type": "stream",
          "name": "stdout",
          "text": [
            "Mounted at /content/drive\n"
          ]
        }
      ]
    },
    {
      "cell_type": "code",
      "metadata": {
        "colab": {
          "base_uri": "https://localhost:8080/"
        },
        "id": "xpnpzQUk69J9",
        "outputId": "ae318795-7e26-41e5-bf55-6ab5be692db7"
      },
      "source": [
        "! rm -r joeynmt\n",
        "! rm -r sample_data\n",
        "! rm -r dev.bpe.en\n",
        "! rm -r dev.bpe.zu\n",
        "! rm -r dev.en\n",
        "! rm -r dev.zu\n",
        "! rm -r test.bpe.en\n",
        "! rm -r test.bpe.zu\n",
        "! rm -r test.en\n",
        "! rm -r test.zu\n",
        "! rm -r train.bpe.en\n",
        "! rm -r train.bpe.zu\n",
        "! rm -r train.en\n",
        "! rm -r train.zu\n",
        "! rm -r en-zu.eval.csv?download=1\n",
        "! rm -r en-zu.training.csv?download=1\n",
        "! rm -r tokenizer-trained.json\n",
        "! rm -r train.uni.en\n",
        "! rm -r train.uni.zu\n",
        "! rm -r dev.uni.en\n",
        "! rm -r dev.uni.zu\n",
        "! rm -r test.uni.en\n",
        "! rm -r test.uni.zu\n",
        "! rm -r train.char.en\n",
        "! rm -r train.char.zu\n",
        "! rm -r test.char.zu\n",
        "! rm -r test.char.en\n",
        "! rm -r m.vocab\n",
        "! rm -r m.model\n",
        "! rm -r dev.char.en\n",
        "! rm -r dev.char.zu\n"
      ],
      "execution_count": 2,
      "outputs": [
        {
          "output_type": "stream",
          "name": "stdout",
          "text": [
            "rm: cannot remove 'sample_data': No such file or directory\n",
            "rm: cannot remove 'tokenizer-trained.json': No such file or directory\n",
            "rm: cannot remove 'train.uni.en': No such file or directory\n",
            "rm: cannot remove 'train.uni.zu': No such file or directory\n",
            "rm: cannot remove 'dev.uni.en': No such file or directory\n",
            "rm: cannot remove 'dev.uni.zu': No such file or directory\n",
            "rm: cannot remove 'test.uni.en': No such file or directory\n",
            "rm: cannot remove 'test.uni.zu': No such file or directory\n",
            "rm: cannot remove 'm.vocab': No such file or directory\n",
            "rm: cannot remove 'm.model': No such file or directory\n"
          ]
        }
      ]
    },
    {
      "cell_type": "code",
      "metadata": {
        "collapsed": true,
        "id": "Cn3tgQLzUxwn"
      },
      "source": [
        "import os\n",
        "\n",
        "source_language = 'en'\n",
        "target_language = 'zu' \n",
        "lc = False  # If True, lowercase the data.\n",
        "seed = 42  # Random seed for shuffling.\n",
        "tag = 'baseline' # Give a unique name to your folder - this is to ensure you don't rewrite any models you've already submitted\n",
        "\n",
        "os.environ[\"src\"] = source_language # Sets them in bash as well, since we often use bash scripts\n",
        "os.environ[\"tgt\"] = target_language\n",
        "os.environ[\"tag\"] = tag\n",
        "\n",
        "# This will save it to a folder in our gdrive instead!\n",
        "!mkdir -p \"/content/drive/My Drive/nlp-project/$src-$tgt-$tag\"\n",
        "os.environ[\"gdrive_path\"] = \"/content/drive/My Drive/nlp-project/%s-%s-%s\" % (source_language, target_language, tag)"
      ],
      "execution_count": 3,
      "outputs": []
    },
    {
      "cell_type": "code",
      "metadata": {
        "colab": {
          "base_uri": "https://localhost:8080/"
        },
        "collapsed": true,
        "id": "kBSgJHEw7Nvx",
        "outputId": "90017e28-ede5-42da-deeb-7a2a90b7ddf1"
      },
      "source": [
        "!echo $gdrive_path"
      ],
      "execution_count": 4,
      "outputs": [
        {
          "output_type": "stream",
          "name": "stdout",
          "text": [
            "/content/drive/My Drive/nlp-project/en-zu-baseline\n"
          ]
        }
      ]
    },
    {
      "cell_type": "code",
      "metadata": {
        "colab": {
          "base_uri": "https://localhost:8080/"
        },
        "id": "jaQqpKUbR_cX",
        "outputId": "329e8962-8c06-437a-e073-b915c2ca906e"
      },
      "source": [
        "! wget https://zenodo.org/record/5035171/files/en-zu.training.csv?download=1\n",
        "\n",
        "! wget https://zenodo.org/record/5035171/files/en-zu.eval.csv?download=1"
      ],
      "execution_count": 5,
      "outputs": [
        {
          "output_type": "stream",
          "name": "stdout",
          "text": [
            "--2021-11-22 19:17:00--  https://zenodo.org/record/5035171/files/en-zu.training.csv?download=1\n",
            "Resolving zenodo.org (zenodo.org)... 137.138.76.77\n",
            "Connecting to zenodo.org (zenodo.org)|137.138.76.77|:443... connected.\n",
            "HTTP request sent, awaiting response... 200 OK\n",
            "Length: 1529050 (1.5M) [text/plain]\n",
            "Saving to: ‘en-zu.training.csv?download=1’\n",
            "\n",
            "en-zu.training.csv? 100%[===================>]   1.46M  1.88MB/s    in 0.8s    \n",
            "\n",
            "2021-11-22 19:17:03 (1.88 MB/s) - ‘en-zu.training.csv?download=1’ saved [1529050/1529050]\n",
            "\n",
            "--2021-11-22 19:17:03--  https://zenodo.org/record/5035171/files/en-zu.eval.csv?download=1\n",
            "Resolving zenodo.org (zenodo.org)... 137.138.76.77\n",
            "Connecting to zenodo.org (zenodo.org)|137.138.76.77|:443... connected.\n",
            "HTTP request sent, awaiting response... 200 OK\n",
            "Length: 466677 (456K) [text/plain]\n",
            "Saving to: ‘en-zu.eval.csv?download=1’\n",
            "\n",
            "en-zu.eval.csv?down 100%[===================>] 455.74K   733KB/s    in 0.6s    \n",
            "\n",
            "2021-11-22 19:17:05 (733 KB/s) - ‘en-zu.eval.csv?download=1’ saved [466677/466677]\n",
            "\n"
          ]
        }
      ]
    },
    {
      "cell_type": "code",
      "metadata": {
        "id": "84YLcjWsi6pu"
      },
      "source": [
        "import pandas as pd\n",
        "\n",
        "train = pd.read_csv('en-zu.training.csv?download=1')\n",
        "\n",
        "eval_df = pd.read_csv('en-zu.eval.csv?download=1')"
      ],
      "execution_count": 6,
      "outputs": []
    },
    {
      "cell_type": "markdown",
      "metadata": {
        "id": "YkuK3B4p2AkN"
      },
      "source": [
        "## Pre-processing and export\n",
        "\n",
        "It is generally a good idea to remove duplicate translations and conflicting translations from the corpus. In practice, these public corpora include some number of these that need to be cleaned.\n",
        "\n",
        "In addition we will split our data into dev/test/train and export to the filesystem."
      ]
    },
    {
      "cell_type": "code",
      "metadata": {
        "collapsed": true,
        "id": "M_2ouEOH1_1q"
      },
      "source": [
        "# drop duplicate translations\n",
        "train = train.drop_duplicates()\n",
        "\n",
        "# Shuffle the data to remove bias in dev set selection.\n",
        "train = train.sample(frac=1, random_state=seed).reset_index(drop=True)"
      ],
      "execution_count": 7,
      "outputs": []
    },
    {
      "cell_type": "code",
      "metadata": {
        "colab": {
          "base_uri": "https://localhost:8080/"
        },
        "collapsed": true,
        "id": "Z_1BwAApEtMk",
        "outputId": "7a4f573a-0a4e-419c-8f13-a507eb170d6b"
      },
      "source": [
        "# Install fuzzy wuzzy to remove \"almost duplicate\" sentences in the\n",
        "# test and training sets.\n",
        "! pip install fuzzywuzzy\n",
        "! pip install python-Levenshtein\n",
        "\n",
        "import time\n",
        "from fuzzywuzzy import process\n",
        "import numpy as np\n",
        "from os import cpu_count\n",
        "from functools import partial\n",
        "from multiprocessing import Pool\n",
        "\n",
        "# reset the index of the training set after previous filtering\n",
        "train.reset_index(drop=False, inplace=True)\n",
        "\n",
        "# Remove samples from the training data set if they \"almost overlap\" with the\n",
        "# samples in the test set.\n",
        "\n",
        "# Filtering function. Adjust pad to narrow down the candidate matches to\n",
        "# within a certain length of characters of the given sample.\n",
        "def fuzzfilter(sample, candidates, pad):\n",
        "  candidates = [x for x in candidates if len(x) <= len(sample)+pad and len(x) >= len(sample)-pad] \n",
        "  if len(candidates) > 0:\n",
        "    return process.extractOne(sample, candidates)[1]\n",
        "  else:\n",
        "    return np.nan"
      ],
      "execution_count": 8,
      "outputs": [
        {
          "output_type": "stream",
          "name": "stdout",
          "text": [
            "Requirement already satisfied: fuzzywuzzy in /usr/local/lib/python3.7/dist-packages (0.18.0)\n",
            "Requirement already satisfied: python-Levenshtein in /usr/local/lib/python3.7/dist-packages (0.12.2)\n",
            "Requirement already satisfied: setuptools in /usr/local/lib/python3.7/dist-packages (from python-Levenshtein) (57.4.0)\n"
          ]
        }
      ]
    },
    {
      "cell_type": "code",
      "metadata": {
        "colab": {
          "base_uri": "https://localhost:8080/"
        },
        "collapsed": true,
        "id": "hxxBOCA-xXhy",
        "outputId": "798aa39e-a4a9-4fb1-a1b6-b10e20f884b0"
      },
      "source": [
        "# This section does the split between train/dev for the parallel corpora then saves them as separate files\n",
        "# We use 1000 dev set and the given test set.\n",
        "# Do the split between dev/train and create parallel corpora\n",
        "\n",
        "num_dev_patterns = 600\n",
        "\n",
        "# lower case the corpora - this will make it easier to generalize, but without proper casing.\n",
        "if lc:\n",
        "    train[\"en\"] = train[\"en\"].str.lower()\n",
        "    train[\"zu\"] = train[\"zu\"].str.lower()\n",
        "\n",
        "# dev and test sets\n",
        "dev = eval_df.tail(num_dev_patterns) \n",
        "test = eval_df.drop(eval_df.tail(num_dev_patterns).index)\n",
        "\n",
        "with open(\"train.\"+source_language, \"w\") as src_file, open(\"train.\"+target_language, \"w\") as trg_file:\n",
        "  for index, row in train.iterrows():\n",
        "    src_file.write(row[\"en\"]+\"\\n\")\n",
        "    trg_file.write(row[\"zu\"]+\"\\n\")\n",
        "    \n",
        "with open(\"dev.\"+source_language, \"w\") as src_file, open(\"dev.\"+target_language, \"w\") as trg_file:\n",
        "  for index, row in dev.iterrows():\n",
        "    src_file.write(row[\"en\"]+\"\\n\")\n",
        "    trg_file.write(row[\"zu\"]+\"\\n\")\n",
        "\n",
        "with open(\"test.\"+source_language, \"w\") as src_file, open(\"test.\"+target_language, \"w\") as trg_file:\n",
        "  for index, row in test.iterrows():\n",
        "    src_file.write(row[\"en\"]+\"\\n\")\n",
        "    trg_file.write(row[\"zu\"]+\"\\n\")\n",
        "\n",
        "# Doublecheck the format below. There should be no extra quotation marks or weird characters.\n",
        "! head train.*\n",
        "! head dev.*\n",
        "! head test.*"
      ],
      "execution_count": 9,
      "outputs": [
        {
          "output_type": "stream",
          "name": "stdout",
          "text": [
            "==> train.en <==\n",
            "Today, those using Planck and cosmic background data to obtain a value for the Hubble constant get a figure of 67.4 plus or minus 0.5. By contrast the local approach gives a figure of 73.5 plus or minus 1.4. These values represent the two different values we have for the expansion of the universe. (See \"A matter of metrics,\" below.)\n",
            "Slack's stock has now fallen nearly 20% from its reference price of $24 on the day of its Wall Street debut.\n",
            "Ayesha Shroff's latest Instagram entry deserves everyone's attention.\n",
            "winter weather alerts from west Virginia all the way up to Maine.\n",
            "Mr Moise - who has been in power since 2017 - has called for talks with the opposition, with no success so far.\n",
            "5. Clue (1985)\n",
            "\"My friend was stabbed in the shoulder and my other friend was shot,\" she said. \"I escaped with one friend and went home and then came back to look for another friend.\"\n",
            "Raising awareness or making light?\n",
            "There was also a report where, because we had three policemen in our side [Dean Richards, Wade Dooley and Paul Ackford], it was said that we'd done to the Wallabies what happened to Pakistanis and punks back in Britain.\n",
            "Pavarotti sang Tonio in Donizetti's La Fille du Régiment at the city's Metropolitan Opera, achieving the astonishing feat of hitting nine high Cs in a row.\n",
            "\n",
            "==> train.zu <==\n",
            "Namuhla, labo abasebenzisa idatha yangemuva yePlanck and cosmic ukuthola intengo yeHubble njalo bathola isibalo esingu-67.4 kwengezwa noma kususwe u-0.5. Okuphambana nendlela yasendaweni enikeza isibalo esingu-73.5 kwengezwa noma kususwa u-1.4. La manani amelelela amanani amabili ahlukene esinawo ekukhulisweni kwendawo yonke. (Bheka \"Indaba yamametriksi,\" ngezansi.)\n",
            "Isitoko sakwa-Slack sehle ngo-20% kuntengo yaso eyayiwu $24 ngesikhathi beqala ukungena ku-Wall Street.\n",
            "Okubhalwe kungekudala ku-Instagram ka-Ayesha Shroff' kudinga ukunakekelwa yiwonke umuntu.\n",
            "ukuqwashiswa ngesimo sizulu sasebusika sasentshonalanga neVirginia kuyosho eMaine.\n",
            "UMnu Moise - obesephethe kusukela ngo-2017 - ucele izingxoxo namaqembu aphikisayo, kungabi nampumelelo kuze kube manje.\n",
            "5. Clue (1985)\n",
            "\"Umngani wami ugwazwe ehlombe kwathi omunye wadutshulwa,\" esho ephawula. \"Ngiphunyuke nomngani oyedwa ngaya ekhaya ngabuya ngazobheka omunye umngani.\"\n",
            "Ukukhulisa ukuqwashisa noma ukukugqamisa ?\n",
            "Kwakukhona nombiko futhi, ngoba sasinamaphoyisa amathathu ngakithi [uDean Richards, uWade Dooley noPaul Ackford], owawuthi senze kumaWallabies okwakwenzeke kumaPakistani nama-punks eBrithani.\n",
            "UPavarotti wacula i-Tonio e-Donietti's La Fille du Régiment ku-Metropolitan Opera yedolobha, okwaba nomphumela oyisimanga wokushaya o-C abaphezulu abayisishayagalolunye kulandelana.\n",
            "==> dev.en <==\n",
            "The research by the University of Edinburgh over a 30 year looked at the spread of Bovine Tuberculosis (TB) within cows and badger populations in Gloucestershire.\n",
            "When I booked a three-day singing retreat at Peter Evans's farmhouse in rural France, I had been apprehensive about displaying my pitiful abilities to some intimidating Oxford choral scholar type. But instead I found myself warbling to a skinny former punk guitarist with a strong \"sarf\" London accent and an array of truly terrible jokes.\n",
            "In 2012, for example, multiple guests were injured when their tour bus crashed in St. Martin.\n",
            "\"We were really good that tournament right the way through to the final. I don't think it motivates or carries me to do any better,\" Genia said. \"It's just embracing it and enjoying it. It's once every four years. It's a different kind of buzz and a different kind of energy when you are here when you are playing at a World Cup because all the attention is on rugby.\"\n",
            "Anirban Lahiri of India did not have to qualify for his previous two U.S. Opens, and he doesn't want to have to go through it again. Lahiri had no trouble with a 65 at Scioto and a 67 at Brookside, but he could do without the stress. He had never seen either course, opting for what he called \"point and shoot.\"\n",
            "Meanwhile, the oil market received a more direct boost this week on news that Saudi Arabia slashed shipments to the United States. The US has the most transparent and up-to-date data on the oil market, which include weekly releases on production levels, imports and exports, and inventories. That kind of visibility is not readily available in most places around the world.\n",
            "Existing solutions for controlling reflection of waves have low efficiency or difficult implementation,' says Ana Díaz-Rubio, postdoctoral researcher at Aalto University.\n",
            "When you start using hashtags with more than 300,000 posts, it gets extremely difficult to be discovered from that hashtag.\n",
            "Facebook routinely complies with government requests to block content that violate local laws.\n",
            "Housing completions fell 4.8% to 1.161 million units last month, the lowest level since December.\n",
            "\n",
            "==> dev.zu <==\n",
            "Ucwaningo lweNyuvesi yase-Edinburgh oluthathe iminyaka engama-30 lubheke ukusabalala kwe-Bovine Tuberculosis (i-TB) ezinkomeni nakuma-badger eGlouestershire.\n",
            "Ngenkathi ngibekisela uhlelo lwezinsuku ezintathu lokuvuselela ikhono lomculo endlini yaseplazini kaPeter Evan endaweni esemakhaya eFrance, nganginokuzibamba maqondana nokuveza amakhono ami alusizi kuhlobo lwabaculi bekwaya base-Oxford. Kodwa esikhundleni salokho ngizithole ngiculela phansi kukhala isigingci sisho iculo ngokugcizelela indlela yokukhuluma yaseLondon kuhambisana namahlaya amabi kakhulu.\n",
            "Ngowezi-2012, isibonelo, kwalimala inqwaba yezivakashi lapho ibhasi labo lokuvakasha lishayisa e-St. Martin.\n",
            "\"Sidlale kahle kakhulu kulowo mqhudelwano zibekwa nje kwaze kwafikwa ekugcineni. Angiboni ukuthi kuyakhuthaza noma kungiqhuba kangcono,\" kusho uGenia. \"Wukukwamukela nje nokukujabulela. Kuba njalo eminyakeni emine. Wuhlobo oluhlukile lomsindo futhi uhlobo oluhlukile lwamandla uma ulapha uma udlala kwiNdebe Yomhlaba ngoba kunakwa kakhulu umdlalo webhola lombhoxo.\"\n",
            "U-Anirban Lahiri waseNdiya akazange afaneleke ukungena kuma-U.S. Open amabili adlule, futhi akudingeki aphinde adlule kuwo futhi. ULahiri akabanga nenkinga ne-65 at Scioto kanye ne-67 at Brookside, kodwa ubengakwenza ngaphandle kwengcindezi. Ubengakazi azibone zonke izinkundla zokudlala, wakhetha lokhu akubize ngokuthi \"point and shoot.\"\n",
            "Kusenjalo, imakethe kawoyela ithole uxhaso oluqonde ngqo kuleli sonto ngezindaba zokuthi iSaudi Arabia iyeke ukuthumele impahla e-United States. I-US inemininingo esobala kakhulu nebuyekeziwe maqondana nezimakethe zawoyela, okubandakanya ukukhishwa kwamazinga omkhiqizo esonto, okuthengiselwa amanye amazwe nokuthengwa kuvela kwamanye amazwe, kanye nohlu lwempahla. Lolo hlobo lokubonakala alutholakali ngaleso sikhathi ezindaweni eziningi emhlabeni.\n",
            "Izinhlelo ezikhona zokulawula amagagasi avelayo azigculisi ngokwanele noma kuba nzima ukuziqalisa,' kusho u-Ana Díaz-Rubio, umcwaningi weziqu ezilandela ezobudokotela eNyuvesi yase-Aalto.\n",
            "Uma uqala ukusebenzisa ama-hashtag anamaphosti angaphezu kwezi-300,000, kuba nzima kakhulu ukutholakala kuleyo hashtag.\n",
            "IFacebook ivame ukuhambisana nezicelo zikahulumeni ukuvimba okuqukethwe okuphula imithetho yasendaweni.\n",
            "Ukuqedwa kwezindlu kuwela kuma-4.8% kwaya kumayunithi ayisigidi esingu-1.161 ngenyanga edlule, okuyizinga eliphansi kakhulu kusukela ngoDisemba.\n",
            "==> test.en <==\n",
            "Peter Van Sant: And it means what?\n",
            "The cost to society will be substantial, the report says. In 2019 alone, it estimates a $290 billion burden from health care, long-term case and hospice combined. Medicare and Medicaid will cover $195 billion of that, with out-of-pocket costs to caregivers reaching $63 billion.\n",
            "It is now up to them to make the most of it.\n",
            "\"The CPS is carefully considering all the available information, including the impact on Harry's family, in order to make an independent and objective charging decision.\n",
            "TV audiences were left outraged after a teenage girl appeared on Channel 4's 24 Hours in A&E complaining of a broken finger nail.\n",
            "The disgusting note read: 'Put your dog on a lead, slag!\n",
            "Sen Sen CEO Subhash Challa\n",
            "Someone behind the camera says: 'Hi guys, hi!\n",
            "\"She was devoted to children and especially animals, including a wild fox who we are continuing to feed now that she has gone.\"\n",
            "Are there literally ... no other actors alive?\n",
            "\n",
            "==> test.zu <==\n",
            "Peter Van Sant: Bese kusho ukuthini?\n",
            "Izindleko zomphakathi zizoba zinkulu, ngokusho kombiko. Ngonyaka wezi-2019 uwodwa, umthwalo wezindleko zezempilo ulinganiselwa kuzigidigidi ezingama-$290, kuhlanganiswa ukugula kwesikhathi eside kanye ne-hospice.  I-Medicare ne-Medicaid izokhokhela izindleko eziyizigidigidi ezingama-$195 walokho, ngezindleko ezikhokhwa ngqo zabanakekeli ezifinyelela kuzigidigidi ezingama-$63.\n",
            "Sekulele kubo ukuthi bayisebenzise ngendlela ezoba nenzuzo kakhulu.\n",
            "\"I-CPS icubungulisisa lonke ulwazi olukhona, okubandakanya umthelela emndenini kaHarry, ukuze kuthathwe isinqumo sokukhokhisa esizimele nesingachemile.\n",
            "Izibukeli zaku-TV zishiywe zimangele emuva kokuba kuvele intombazane esakhula ohlelweni i-24 Hours ku-A&E kuShaneli 4 ikhalaza ngokuphukelwa wuzipho.\n",
            "Umbhalo onyanyisayo ubufundeka kanje: 'Beka inja yakho phambili, slag!\n",
            "USen Sen u-CEO weSubhash Challa\n",
            "Kunomuntu ongemuva kwekhamera othi: Sanibonani bafowethu, sanibonani!\n",
            "\"Wayezinikele ezinganeni ikhalukazi nasezilwaneni, okubandakanya impungushe yasendle esiqhubekayo nokuyiphakela namanje engasekho.\"\n",
            "Ingabe ngempela ... abasekho nhlobo abanye abalingisi abasaphila?\n"
          ]
        }
      ]
    },
    {
      "cell_type": "markdown",
      "metadata": {
        "id": "epeCydmCyS8X"
      },
      "source": [
        "\n",
        "\n",
        "---\n",
        "\n",
        "\n",
        "## Installation of JoeyNMT\n",
        "\n",
        "[JoeyNMT](https://joeynmt.readthedocs.io) is a simple, minimalist NMT package.  "
      ]
    },
    {
      "cell_type": "code",
      "metadata": {
        "colab": {
          "base_uri": "https://localhost:8080/"
        },
        "id": "iBRMm4kMxZ8L",
        "outputId": "68067862-911c-43ec-9e82-775df0e52766"
      },
      "source": [
        "# Install JoeyNMT\n",
        "! git clone https://github.com/joeynmt/joeynmt.git\n",
        "! cd joeynmt;pip3 install .\n",
        "\n",
        "# Install Pytorch with GPU support v1.7.1.\n",
        "# ! pip uninstall torch\n",
        "! pip install torch==1.10.0+cu102 -f https://download.pytorch.org/whl/torch_stable.html"
      ],
      "execution_count": 10,
      "outputs": [
        {
          "output_type": "stream",
          "name": "stdout",
          "text": [
            "Cloning into 'joeynmt'...\n",
            "remote: Enumerating objects: 3224, done.\u001b[K\n",
            "remote: Counting objects: 100% (273/273), done.\u001b[K\n",
            "remote: Compressing objects: 100% (143/143), done.\u001b[K\n",
            "remote: Total 3224 (delta 155), reused 209 (delta 130), pack-reused 2951\u001b[K\n",
            "Receiving objects: 100% (3224/3224), 8.18 MiB | 12.15 MiB/s, done.\n",
            "Resolving deltas: 100% (2184/2184), done.\n",
            "Processing /content/joeynmt\n",
            "\u001b[33m  DEPRECATION: A future pip version will change local packages to be built in-place without first copying to a temporary directory. We recommend you use --use-feature=in-tree-build to test your packages with this new behavior before it becomes the default.\n",
            "   pip 21.3 will remove support for this functionality. You can find discussion regarding this at https://github.com/pypa/pip/issues/7555.\u001b[0m\n",
            "Requirement already satisfied: future in /usr/local/lib/python3.7/dist-packages (from joeynmt==1.3) (0.16.0)\n",
            "Requirement already satisfied: pillow in /usr/local/lib/python3.7/dist-packages (from joeynmt==1.3) (7.1.2)\n",
            "Requirement already satisfied: numpy>=1.19.5 in /usr/local/lib/python3.7/dist-packages (from joeynmt==1.3) (1.19.5)\n",
            "Requirement already satisfied: setuptools>=41.0.0 in /usr/local/lib/python3.7/dist-packages (from joeynmt==1.3) (57.4.0)\n",
            "Requirement already satisfied: torch>=1.9.0 in /usr/local/lib/python3.7/dist-packages (from joeynmt==1.3) (1.10.0+cu102)\n",
            "Requirement already satisfied: tensorboard>=1.15 in /usr/local/lib/python3.7/dist-packages (from joeynmt==1.3) (2.7.0)\n",
            "Requirement already satisfied: torchtext>=0.10.0 in /usr/local/lib/python3.7/dist-packages (from joeynmt==1.3) (0.11.0)\n",
            "Requirement already satisfied: sacrebleu>=2.0.0 in /usr/local/lib/python3.7/dist-packages (from joeynmt==1.3) (2.0.0)\n",
            "Requirement already satisfied: subword-nmt in /usr/local/lib/python3.7/dist-packages (from joeynmt==1.3) (0.3.7)\n",
            "Requirement already satisfied: matplotlib in /usr/local/lib/python3.7/dist-packages (from joeynmt==1.3) (3.2.2)\n",
            "Requirement already satisfied: seaborn in /usr/local/lib/python3.7/dist-packages (from joeynmt==1.3) (0.11.2)\n",
            "Requirement already satisfied: pyyaml>=5.1 in /usr/local/lib/python3.7/dist-packages (from joeynmt==1.3) (6.0)\n",
            "Requirement already satisfied: pylint>=2.9.6 in /usr/local/lib/python3.7/dist-packages (from joeynmt==1.3) (2.11.1)\n",
            "Requirement already satisfied: six==1.12 in /usr/local/lib/python3.7/dist-packages (from joeynmt==1.3) (1.12.0)\n",
            "Requirement already satisfied: wrapt==1.11.1 in /usr/local/lib/python3.7/dist-packages (from joeynmt==1.3) (1.11.1)\n",
            "Requirement already satisfied: mccabe<0.7,>=0.6 in /usr/local/lib/python3.7/dist-packages (from pylint>=2.9.6->joeynmt==1.3) (0.6.1)\n",
            "Requirement already satisfied: platformdirs>=2.2.0 in /usr/local/lib/python3.7/dist-packages (from pylint>=2.9.6->joeynmt==1.3) (2.4.0)\n",
            "Requirement already satisfied: astroid<2.9,>=2.8.0 in /usr/local/lib/python3.7/dist-packages (from pylint>=2.9.6->joeynmt==1.3) (2.8.6)\n",
            "Requirement already satisfied: toml>=0.7.1 in /usr/local/lib/python3.7/dist-packages (from pylint>=2.9.6->joeynmt==1.3) (0.10.2)\n",
            "Requirement already satisfied: isort<6,>=4.2.5 in /usr/local/lib/python3.7/dist-packages (from pylint>=2.9.6->joeynmt==1.3) (5.10.1)\n",
            "Requirement already satisfied: typing-extensions>=3.10.0 in /usr/local/lib/python3.7/dist-packages (from pylint>=2.9.6->joeynmt==1.3) (3.10.0.2)\n",
            "Requirement already satisfied: lazy-object-proxy>=1.4.0 in /usr/local/lib/python3.7/dist-packages (from astroid<2.9,>=2.8.0->pylint>=2.9.6->joeynmt==1.3) (1.6.0)\n",
            "Requirement already satisfied: typed-ast<2.0,>=1.4.0 in /usr/local/lib/python3.7/dist-packages (from astroid<2.9,>=2.8.0->pylint>=2.9.6->joeynmt==1.3) (1.5.0)\n",
            "Requirement already satisfied: colorama in /usr/local/lib/python3.7/dist-packages (from sacrebleu>=2.0.0->joeynmt==1.3) (0.4.4)\n",
            "Requirement already satisfied: regex in /usr/local/lib/python3.7/dist-packages (from sacrebleu>=2.0.0->joeynmt==1.3) (2019.12.20)\n",
            "Requirement already satisfied: portalocker in /usr/local/lib/python3.7/dist-packages (from sacrebleu>=2.0.0->joeynmt==1.3) (2.3.2)\n",
            "Requirement already satisfied: tabulate>=0.8.9 in /usr/local/lib/python3.7/dist-packages (from sacrebleu>=2.0.0->joeynmt==1.3) (0.8.9)\n",
            "Requirement already satisfied: wheel>=0.26 in /usr/local/lib/python3.7/dist-packages (from tensorboard>=1.15->joeynmt==1.3) (0.37.0)\n",
            "Requirement already satisfied: google-auth<3,>=1.6.3 in /usr/local/lib/python3.7/dist-packages (from tensorboard>=1.15->joeynmt==1.3) (1.35.0)\n",
            "Requirement already satisfied: requests<3,>=2.21.0 in /usr/local/lib/python3.7/dist-packages (from tensorboard>=1.15->joeynmt==1.3) (2.23.0)\n",
            "Requirement already satisfied: markdown>=2.6.8 in /usr/local/lib/python3.7/dist-packages (from tensorboard>=1.15->joeynmt==1.3) (3.3.6)\n",
            "Requirement already satisfied: grpcio>=1.24.3 in /usr/local/lib/python3.7/dist-packages (from tensorboard>=1.15->joeynmt==1.3) (1.42.0)\n",
            "Requirement already satisfied: tensorboard-data-server<0.7.0,>=0.6.0 in /usr/local/lib/python3.7/dist-packages (from tensorboard>=1.15->joeynmt==1.3) (0.6.1)\n",
            "Requirement already satisfied: google-auth-oauthlib<0.5,>=0.4.1 in /usr/local/lib/python3.7/dist-packages (from tensorboard>=1.15->joeynmt==1.3) (0.4.6)\n",
            "Requirement already satisfied: tensorboard-plugin-wit>=1.6.0 in /usr/local/lib/python3.7/dist-packages (from tensorboard>=1.15->joeynmt==1.3) (1.8.0)\n",
            "Requirement already satisfied: werkzeug>=0.11.15 in /usr/local/lib/python3.7/dist-packages (from tensorboard>=1.15->joeynmt==1.3) (1.0.1)\n",
            "Requirement already satisfied: protobuf>=3.6.0 in /usr/local/lib/python3.7/dist-packages (from tensorboard>=1.15->joeynmt==1.3) (3.17.3)\n",
            "Requirement already satisfied: absl-py>=0.4 in /usr/local/lib/python3.7/dist-packages (from tensorboard>=1.15->joeynmt==1.3) (0.12.0)\n",
            "Requirement already satisfied: cachetools<5.0,>=2.0.0 in /usr/local/lib/python3.7/dist-packages (from google-auth<3,>=1.6.3->tensorboard>=1.15->joeynmt==1.3) (4.2.4)\n",
            "Requirement already satisfied: rsa<5,>=3.1.4 in /usr/local/lib/python3.7/dist-packages (from google-auth<3,>=1.6.3->tensorboard>=1.15->joeynmt==1.3) (4.7.2)\n",
            "Requirement already satisfied: pyasn1-modules>=0.2.1 in /usr/local/lib/python3.7/dist-packages (from google-auth<3,>=1.6.3->tensorboard>=1.15->joeynmt==1.3) (0.2.8)\n",
            "Requirement already satisfied: requests-oauthlib>=0.7.0 in /usr/local/lib/python3.7/dist-packages (from google-auth-oauthlib<0.5,>=0.4.1->tensorboard>=1.15->joeynmt==1.3) (1.3.0)\n",
            "Requirement already satisfied: importlib-metadata>=4.4 in /usr/local/lib/python3.7/dist-packages (from markdown>=2.6.8->tensorboard>=1.15->joeynmt==1.3) (4.8.2)\n",
            "Requirement already satisfied: zipp>=0.5 in /usr/local/lib/python3.7/dist-packages (from importlib-metadata>=4.4->markdown>=2.6.8->tensorboard>=1.15->joeynmt==1.3) (3.6.0)\n",
            "Requirement already satisfied: pyasn1<0.5.0,>=0.4.6 in /usr/local/lib/python3.7/dist-packages (from pyasn1-modules>=0.2.1->google-auth<3,>=1.6.3->tensorboard>=1.15->joeynmt==1.3) (0.4.8)\n",
            "Requirement already satisfied: idna<3,>=2.5 in /usr/local/lib/python3.7/dist-packages (from requests<3,>=2.21.0->tensorboard>=1.15->joeynmt==1.3) (2.10)\n",
            "Requirement already satisfied: chardet<4,>=3.0.2 in /usr/local/lib/python3.7/dist-packages (from requests<3,>=2.21.0->tensorboard>=1.15->joeynmt==1.3) (3.0.4)\n",
            "Requirement already satisfied: certifi>=2017.4.17 in /usr/local/lib/python3.7/dist-packages (from requests<3,>=2.21.0->tensorboard>=1.15->joeynmt==1.3) (2021.10.8)\n",
            "Requirement already satisfied: urllib3!=1.25.0,!=1.25.1,<1.26,>=1.21.1 in /usr/local/lib/python3.7/dist-packages (from requests<3,>=2.21.0->tensorboard>=1.15->joeynmt==1.3) (1.24.3)\n",
            "Requirement already satisfied: oauthlib>=3.0.0 in /usr/local/lib/python3.7/dist-packages (from requests-oauthlib>=0.7.0->google-auth-oauthlib<0.5,>=0.4.1->tensorboard>=1.15->joeynmt==1.3) (3.1.1)\n",
            "Requirement already satisfied: tqdm in /usr/local/lib/python3.7/dist-packages (from torchtext>=0.10.0->joeynmt==1.3) (4.62.3)\n",
            "Requirement already satisfied: kiwisolver>=1.0.1 in /usr/local/lib/python3.7/dist-packages (from matplotlib->joeynmt==1.3) (1.3.2)\n",
            "Requirement already satisfied: python-dateutil>=2.1 in /usr/local/lib/python3.7/dist-packages (from matplotlib->joeynmt==1.3) (2.8.2)\n",
            "Requirement already satisfied: cycler>=0.10 in /usr/local/lib/python3.7/dist-packages (from matplotlib->joeynmt==1.3) (0.11.0)\n",
            "Requirement already satisfied: pyparsing!=2.0.4,!=2.1.2,!=2.1.6,>=2.0.1 in /usr/local/lib/python3.7/dist-packages (from matplotlib->joeynmt==1.3) (3.0.6)\n",
            "Requirement already satisfied: pandas>=0.23 in /usr/local/lib/python3.7/dist-packages (from seaborn->joeynmt==1.3) (1.1.5)\n",
            "Requirement already satisfied: scipy>=1.0 in /usr/local/lib/python3.7/dist-packages (from seaborn->joeynmt==1.3) (1.4.1)\n",
            "Requirement already satisfied: pytz>=2017.2 in /usr/local/lib/python3.7/dist-packages (from pandas>=0.23->seaborn->joeynmt==1.3) (2018.9)\n",
            "Building wheels for collected packages: joeynmt\n",
            "  Building wheel for joeynmt (setup.py) ... \u001b[?25l\u001b[?25hdone\n",
            "  Created wheel for joeynmt: filename=joeynmt-1.3-py3-none-any.whl size=86029 sha256=0e6f7f7a477509f37a08cfe7f1bf1d4113304e2379ccbe85b040449da6dc58fe\n",
            "  Stored in directory: /tmp/pip-ephem-wheel-cache-ozuvmujo/wheels/0a/f4/bf/6c9d3b8efbfece6cd209f865be37382b02e7c3584df2e28ca4\n",
            "Successfully built joeynmt\n",
            "Installing collected packages: joeynmt\n",
            "  Attempting uninstall: joeynmt\n",
            "    Found existing installation: joeynmt 1.3\n",
            "    Uninstalling joeynmt-1.3:\n",
            "      Successfully uninstalled joeynmt-1.3\n",
            "Successfully installed joeynmt-1.3\n",
            "Looking in links: https://download.pytorch.org/whl/torch_stable.html\n",
            "Requirement already satisfied: torch==1.10.0+cu102 in /usr/local/lib/python3.7/dist-packages (1.10.0+cu102)\n",
            "Requirement already satisfied: typing-extensions in /usr/local/lib/python3.7/dist-packages (from torch==1.10.0+cu102) (3.10.0.2)\n"
          ]
        }
      ]
    },
    {
      "cell_type": "code",
      "metadata": {
        "id": "uUxy4M4wIaek"
      },
      "source": [
        "# from os import path\n",
        "# os.environ[\"src\"] = source_language # Sets them in bash as well, since we often use bash scripts\n",
        "# os.environ[\"tgt\"] = target_language\n",
        "\n",
        "# # Learn BPEs on the training data.\n",
        "# os.environ[\"data_path\"] = path.join(\"joeynmt\", \"data\", source_language + target_language) # Herman! "
      ],
      "execution_count": null,
      "outputs": []
    },
    {
      "cell_type": "markdown",
      "metadata": {
        "id": "TqMMWLLQjnEE"
      },
      "source": [
        "# 1. Preprocessing the data into sentencepiece char tokens"
      ]
    },
    {
      "cell_type": "code",
      "metadata": {
        "colab": {
          "base_uri": "https://localhost:8080/"
        },
        "id": "cCJb8Dr8ji2K",
        "outputId": "aa1a1bc0-451c-4d31-c4d2-6fa98ef2662e"
      },
      "source": [
        "! pip install sentencepiece"
      ],
      "execution_count": 11,
      "outputs": [
        {
          "output_type": "stream",
          "name": "stdout",
          "text": [
            "Requirement already satisfied: sentencepiece in /usr/local/lib/python3.7/dist-packages (0.1.96)\n"
          ]
        }
      ]
    },
    {
      "cell_type": "code",
      "metadata": {
        "id": "BQGyV3aCjzgK"
      },
      "source": [
        "# import sentencepiece as spm\n",
        "\n",
        "# # train sentencepiece model\n",
        "# # makes segmenter instance\n",
        "# # encode: file\n",
        "# spm.SentencePieceTrainer.train('--input=train.en,train.zu --model_prefix=m_char --vocab_size=2000 --model_type=char')\n",
        "\n",
        "# sp = spm.SentencePieceProcessor(model_file=\"m_char.model\")\n",
        "\n",
        "# with open(\"train.en\",\"r\") as r_train_en, open(\"train.char.\"+source_language,\"w\") as w_train_char_en, \\\n",
        "# open(\"train.zu\",\"r\") as r_train_zu, open(\"train.char.\"+target_language,\"w\") as w_train_char_zu:\n",
        "#   for line in r_train_en:\n",
        "#     w_train_char_en.write(\" \".join(sp.encode(line, out_type=str))+\"\\n\")\n",
        "#   for line in r_train_zu:\n",
        "#     w_train_char_zu.write(\" \".join(sp.encode(line, out_type=str))+\"\\n\")\n",
        "\n",
        "# with open(\"dev.en\",\"r\") as r_dev_en, open(\"dev.char.\"+source_language,\"w\") as w_dev_char_en, \\\n",
        "# open(\"dev.zu\",\"r\") as r_dev_zu, open(\"dev.char.\"+target_language,\"w\") as w_dev_char_zu:\n",
        "#   for line in r_dev_en:\n",
        "#     w_dev_char_en.write(\" \".join(sp.encode(line, out_type=str))+\"\\n\")\n",
        "#   for line in r_dev_zu:\n",
        "#     w_dev_char_zu.write(\" \".join(sp.encode(line, out_type=str))+\"\\n\")\n",
        "\n",
        "# with open(\"test.en\",\"r\") as r_test_en, open(\"test.char.\"+source_language,\"w\") as w_test_char_en, \\\n",
        "# open(\"test.zu\",\"r\") as r_test_zu, open(\"test.char.\"+target_language,\"w\") as w_test_char_zu:\n",
        "#   for line in r_test_en:\n",
        "#     w_test_char_en.write(\" \".join(sp.encode(line, out_type=str))+\"\\n\")\n",
        "#   for line in r_test_zu:\n",
        "#     w_test_char_zu.write(\" \".join(sp.encode(line, out_type=str))+\"\\n\")\n"
      ],
      "execution_count": 12,
      "outputs": []
    },
    {
      "cell_type": "markdown",
      "metadata": {
        "id": "vGF3XAJzuhiU"
      },
      "source": [
        "# 2. Preprocessing the Data into Subword BPE Tokens without dropout"
      ]
    },
    {
      "cell_type": "code",
      "metadata": {
        "id": "VdGaY_-oug18",
        "outputId": "e9a7cc33-8350-46f9-eaee-35c64f3f1a6c",
        "colab": {
          "base_uri": "https://localhost:8080/"
        }
      },
      "source": [
        "# One of the huge boosts in NMT performance was to use a different method of tokenizing. \n",
        "# Usually, NMT would tokenize by words. However, using a method called BPE gave amazing boosts to performance\n",
        "\n",
        "# Do subword NMT\n",
        "from os import path\n",
        "os.environ[\"src\"] = source_language # Sets them in bash as well, since we often use bash scripts\n",
        "os.environ[\"tgt\"] = target_language\n",
        "\n",
        "# Learn BPEs on the training data.\n",
        "os.environ[\"data_path\"] = path.join(\"joeynmt\", \"data\", source_language + target_language) # Herman! \n",
        "! subword-nmt learn-joint-bpe-and-vocab --input train.$src train.$tgt -s 4000 -o bpe.codes.4000 --write-vocabulary vocab.$src vocab.$tgt\n",
        "\n",
        "# Apply BPE splits to the development and test data.\n",
        "! subword-nmt apply-bpe -c bpe.codes.4000 --vocabulary vocab.$src < train.$src > train.bpe.$src\n",
        "! subword-nmt apply-bpe -c bpe.codes.4000 --vocabulary vocab.$tgt < train.$tgt > train.bpe.$tgt\n",
        "\n",
        "! subword-nmt apply-bpe -c bpe.codes.4000 --vocabulary vocab.$src < dev.$src > dev.bpe.$src\n",
        "! subword-nmt apply-bpe -c bpe.codes.4000 --vocabulary vocab.$tgt < dev.$tgt > dev.bpe.$tgt\n",
        "! subword-nmt apply-bpe -c bpe.codes.4000 --vocabulary vocab.$src < test.$src > test.bpe.$src\n",
        "! subword-nmt apply-bpe -c bpe.codes.4000 --vocabulary vocab.$tgt < test.$tgt > test.bpe.$tgt\n",
        "\n",
        "# Create directory, move everyone we care about to the correct location\n",
        "! mkdir -p $data_path\n",
        "! cp train.* $data_path\n",
        "! cp test.* $data_path\n",
        "! cp dev.* $data_path\n",
        "! cp bpe.codes.4000 $data_path\n",
        "! ls $data_path\n",
        "\n",
        "# Also move everything we care about to a mounted location in google drive (relevant if running in colab) at gdrive_path\n",
        "! cp train.* \"$gdrive_path\"\n",
        "! cp test.* \"$gdrive_path\"\n",
        "! cp dev.* \"$gdrive_path\"\n",
        "! cp bpe.codes.4000 \"$gdrive_path\"\n",
        "! ls \"$gdrive_path\"\n",
        "\n",
        "# Create that vocab using build_vocab\n",
        "! sudo chmod 777 joeynmt/scripts/build_vocab.py\n",
        "! joeynmt/scripts/build_vocab.py joeynmt/data/$src$tgt/train.bpe.$src joeynmt/data/$src$tgt/train.bpe.$tgt --output_path joeynmt/data/$src$tgt/vocab.txt\n",
        "\n",
        "# Some output\n",
        "! echo \"BPE Zulu Sentences\"\n",
        "! tail -n 5 test.bpe.$tgt\n",
        "! echo \"Combined BPE Vocab\"\n",
        "! tail -n 10 joeynmt/data/$src$tgt/vocab.txt  # Herman"
      ],
      "execution_count": 13,
      "outputs": [
        {
          "output_type": "stream",
          "name": "stdout",
          "text": [
            "bpe.codes.4000\tdev.char.zu  test.bpe.zu   test.zu\t  train.char.zu\n",
            "dev.bpe.en\tdev.en\t     test.char.en  train.bpe.en   train.en\n",
            "dev.bpe.zu\tdev.zu\t     test.char.zu  train.bpe.zu   train.zu\n",
            "dev.char.en\ttest.bpe.en  test.en\t   train.char.en\n",
            "bpe.codes.4000\tdev.char.zu  models\t  test.char.en\ttrain.bpe.en   train.en\n",
            "dev.bpe.en\tdev.en\t     m.vocab\t  test.char.zu\ttrain.bpe.zu   train.zu\n",
            "dev.bpe.zu\tdev.zu\t     test.bpe.en  test.en\ttrain.char.en  vocab.en\n",
            "dev.char.en\tm.model      test.bpe.zu  test.zu\ttrain.char.zu  vocab.zu\n",
            "BPE Zulu Sentences\n",
            "In@@ dlela ay@@ ekh@@ uluma ngayo emuva kwal@@ okho, kwakung@@ athi akw@@ enzek@@ anga l@@ utho is@@ onto l@@ onke.\n",
            "I-@@ T@@ ott@@ en@@ ham iz@@ on@@ q@@ ob@@ a: idl@@ ala ngoku@@ ling@@ ana\n",
            "B@@ ese (@@ i-@@ New York J@@ et@@ s@@ '@@ ) i-@@ Le@@ V@@ e@@ on B@@ ell iy@@ ez@@ a, ukuze ukw@@ azi ukug@@ ij@@ ima oku@@ phambili se@@ ku@@ bu@@ ya ihl@@ andla l@@ esib@@ ili.\n",
            "\"@@ Ang@@ ik@@ amb@@ uzi ng@@ akh@@ o,\" kusho u@@ Pa@@ ul@@ son wase@@ B@@ ul@@ loc@@ k, o@@ dlala ek@@ a@@ D@@ eb@@ b@@ ie Oc@@ e@@ an. \"Ng@@ iz@@ okwenza lokho ngoba ngoba ng@@ ifuna ukubona ukuthi ing@@ abe siz@@ ok@@ e si@@ kw@@ enze yini lokh@@ o. Kung@@ aba m@@ nandi kakhulu@@ .\"\n",
            "Um@@ z@@ amo ub@@ andakanya imiphumela y@@ os@@ om@@ abh@@ izinisi aban@@ amandla kakhulu, aban@@ x@@ en@@ x@@ i kanye n@@ abab@@ eng@@ aman@@ x@@ usa ab@@ aq@@ oq@@ ela u@@ George W@@ . B@@ ush@@ , u@@ John Mc@@ C@@ ain noM@@ it@@ t R@@ om@@ ney imali enkulu - futhi manje abal@@ ung@@ is@@ elela uku@@ ngena ku@@ man@@ eth@@ iwe@@ kh@@ i amakhulu b@@ enz@@ ela uTrump emuva koku@@ ch@@ ith@@ wa kom@@ kh@@ ankaso wakhe w@@ ob@@ om@@ ongameli woku@@ qal@@ a.\n",
            "Combined BPE Vocab\n",
            "‐\n",
            "agal@@\n",
            "\n",
            "@@\n",
            "É@@\n",
            "someth@@\n",
            "‎@@\n",
            "Cred@@\n",
            "esn't\n",
            "€\n"
          ]
        }
      ]
    },
    {
      "cell_type": "markdown",
      "metadata": {
        "id": "AaE77Tcppex9"
      },
      "source": [
        "# 3. Preprocessing the Data into Subword BPE Tokens with dropout\n"
      ]
    },
    {
      "cell_type": "code",
      "metadata": {
        "id": "H-TyjtmXB1mL"
      },
      "source": [
        "# # Do subword NMT\n",
        "# from os import path\n",
        "# os.environ['src'] = source_language # Sets them in bash as well, since we often use bash scripts\n",
        "# os.environ['tgt'] = target_language\n",
        "\n",
        "# # Learn BPEs on the training data.\n",
        "# os.environ['data_path'] = path.join('joeynmt', 'data', source_language + target_language)\n",
        "# ! subword-nmt learn-joint-bpe-and-vocab --input train.$src train.$tgt -s 4000 -o bpe.codes.4000 --write-vocabulary vocab.$src vocab.$tgt\n",
        "\n",
        "# # Apply BPE splits to the development and test data.\n",
        "# ! subword-nmt apply-bpe --dropout 0.1 -c bpe.codes.4000 --vocabulary vocab.$src < train.$src > train.bpe.$src\n",
        "# ! subword-nmt apply-bpe --dropout 0.1 -c bpe.codes.4000 --vocabulary vocab.$tgt < train.$tgt > train.bpe.$tgt\n",
        "\n",
        "# ! subword-nmt apply-bpe -c bpe.codes.4000 --vocabulary vocab.$src < dev.$src > dev.bpe.$src\n",
        "# ! subword-nmt apply-bpe -c bpe.codes.4000 --vocabulary vocab.$tgt < dev.$tgt > dev.bpe.$tgt\n",
        "# ! subword-nmt apply-bpe -c bpe.codes.4000 --vocabulary vocab.$src < test.$src > test.bpe.$src\n",
        "# ! subword-nmt apply-bpe -c bpe.codes.4000 --vocabulary vocab.$tgt < test.$tgt > test.bpe.$tgt"
      ],
      "execution_count": 14,
      "outputs": []
    },
    {
      "cell_type": "code",
      "metadata": {
        "id": "Wp09MIztOJi0"
      },
      "source": [
        "# # Create directory, move everyone we care about to the correct location\n",
        "# ! mkdir -p $data_path\n",
        "# ! cp *.en $data_path\n",
        "# ! cp *.zu $data_path\n",
        "# ! cp bpe.codes.4000 $data_path\n",
        "# ! cp m.* $data_path\n",
        "# ! ls $data_path\n",
        "\n",
        "# # Also move everything we care about to a mounted location in google drive (relevant if running in colab) at gdrive_path\n",
        "# ! cp *.en \"$gdrive_path\"\n",
        "# ! cp *.zu \"$gdrive_path\"\n",
        "# ! cp bpe.codes.4000 \"$gdrive_path\"\n",
        "# ! cp m.* \"$gdrive_path\"\n",
        "# ! ls \"$gdrive_path\"\n",
        "\n",
        "# # Create that vocab using build_vocab\n",
        "# ! sudo chmod 777 joeynmt/scripts/build_vocab.py\n",
        "# ! joeynmt/scripts/build_vocab.py joeynmt/data/$src$tgt/train.bpe.$src joeynmt/data/$src$tgt/train.bpe.$tgt --output_path joeynmt/data/$src$tgt/vocab.txt\n",
        "# ! joeynmt/scripts/build_vocab.py joeynmt/data/$src$tgt/train.char.$src joeynmt/data/$src$tgt/train.char.$tgt --output_path joeynmt/data/$src$tgt/m.vocab\n",
        "\n",
        "# # Some output\n",
        "# ! echo \"BPE Zulu Sentences\"\n",
        "# ! tail -n 5 test.bpe.$tgt\n",
        "# ! echo \"Combined BPE Vocab\"\n",
        "# ! tail -n 10 joeynmt/data/$src$tgt/m.vocab  # Herman"
      ],
      "execution_count": 15,
      "outputs": []
    },
    {
      "cell_type": "markdown",
      "metadata": {
        "id": "Ixmzi60WsUZ8"
      },
      "source": [
        "# Creating the JoeyNMT Config\n",
        "\n",
        "JoeyNMT requires a yaml config. We provide a template below. We've also set a number of defaults with it, that you may play with!\n",
        "\n",
        "- We used Transformer architecture \n",
        "- We set our dropout to reasonably high: 0.3 (recommended in  [(Sennrich, 2019)](https://www.aclweb.org/anthology/P19-1021))\n",
        "\n",
        "Things worth playing with:\n",
        "- The batch size (also recommended to change for low-resourced languages)\n",
        "- The number of epochs (we've set it at 30 just so it runs in about an hour, for testing purposes)\n",
        "- The decoder options (beam_size, alpha)\n",
        "- Evaluation metrics (BLEU versus Crhf4)"
      ]
    },
    {
      "cell_type": "code",
      "metadata": {
        "collapsed": true,
        "id": "PIs1lY2hxMsl"
      },
      "source": [
        "name = '%s%s' % (source_language, target_language)\n",
        "gdrive_path = os.environ[\"gdrive_path\"]\n",
        "\n",
        "# Create the config\n",
        "config = \"\"\"\n",
        "name: \"{name}_transformer\"\n",
        "\n",
        "data:\n",
        "    src: \"{source_language}\"\n",
        "    trg: \"{target_language}\"\n",
        "    train: \"data/{name}/train.bpe\"  # change back to .bpe\n",
        "    dev:   \"data/{name}/dev.bpe\"\n",
        "    test:  \"data/{name}/test.bpe\"\n",
        "    level: \"bpe\"\n",
        "    lowercase: False\n",
        "    max_sent_length: 100\n",
        "    src_vocab: \"data/{name}/vocab.txt\"\n",
        "    trg_vocab: \"data/{name}/vocab.txt\"\n",
        "\n",
        "testing:\n",
        "    beam_size: 5\n",
        "    alpha: 1.0\n",
        "\n",
        "training:\n",
        "    #load_model: \"{gdrive_path}/models/{name}_transformer/1.ckpt\" # if uncommented, load a pre-trained model from this checkpoint\n",
        "    random_seed: 42\n",
        "    optimizer: \"adam\"\n",
        "    normalization: \"tokens\"\n",
        "    adam_betas: [0.9, 0.999] \n",
        "    scheduling: \"plateau\"           # TODO: try switching from plateau to Noam scheduling\n",
        "    patience: 5                     # For plateau: decrease learning rate by decrease_factor if validation score has not improved for this many validation rounds.\n",
        "    learning_rate_factor: 0.5       # factor for Noam scheduler (used with Transformer)\n",
        "    learning_rate_warmup: 1000      # warmup steps for Noam scheduler (used with Transformer)\n",
        "    decrease_factor: 0.7\n",
        "    loss: \"crossentropy\"\n",
        "    learning_rate: 0.0003\n",
        "    learning_rate_min: 0.00000001\n",
        "    weight_decay: 0.0\n",
        "    label_smoothing: 0.1\n",
        "    batch_size: 4096\n",
        "    batch_type: \"token\"\n",
        "    eval_batch_size: 3600\n",
        "    eval_batch_type: \"token\"\n",
        "    batch_multiplier: 1\n",
        "    early_stopping_metric: \"ppl\"\n",
        "    epochs: 1                     # TODO: Decrease for when playing around and checking of working. Around 30 is sufficient to check if its working at all\n",
        "    validation_freq: 1000          # TODO: Set to at least once per epoch.\n",
        "    logging_freq: 100\n",
        "    eval_metric: \"bleu\"\n",
        "    model_dir: \"models/{name}_transformer\"\n",
        "    overwrite: False               # TODO: Set to True if you want to overwrite possibly existing models. \n",
        "    shuffle: True\n",
        "    use_cuda: True\n",
        "    max_output_length: 100\n",
        "    print_valid_sents: [0, 1, 2, 3]\n",
        "    keep_last_ckpts: 3\n",
        "\n",
        "model:\n",
        "    initializer: \"xavier\"\n",
        "    bias_initializer: \"zeros\"\n",
        "    init_gain: 1.0\n",
        "    embed_initializer: \"xavier\"\n",
        "    embed_init_gain: 1.0\n",
        "    tied_embeddings: True\n",
        "    tied_softmax: True\n",
        "    encoder:\n",
        "        type: \"transformer\"\n",
        "        num_layers: 6\n",
        "        num_heads: 4             # TODO: Increase to 8 for larger data.\n",
        "        embeddings:\n",
        "            embedding_dim: 256   # TODO: Increase to 512 for larger data.\n",
        "            scale: True\n",
        "            dropout: 0.2\n",
        "        # typically ff_size = 4 x hidden_size\n",
        "        hidden_size: 256         # TODO: Increase to 512 for larger data.\n",
        "        ff_size: 1024            # TODO: Increase to 2048 for larger data.\n",
        "        dropout: 0.3\n",
        "    decoder:\n",
        "        type: \"transformer\"\n",
        "        num_layers: 6\n",
        "        num_heads: 4              # TODO: Increase to 8 for larger data.\n",
        "        embeddings:\n",
        "            embedding_dim: 256    # TODO: Increase to 512 for larger data.\n",
        "            scale: True\n",
        "            dropout: 0.2\n",
        "        # typically ff_size = 4 x hidden_size\n",
        "        hidden_size: 256         # TODO: Increase to 512 for larger data.\n",
        "        ff_size: 1024            # TODO: Increase to 2048 for larger data.\n",
        "        dropout: 0.3\n",
        "\"\"\".format(name=name, gdrive_path=os.environ[\"gdrive_path\"], source_language=source_language, target_language=target_language)\n",
        "with open(\"joeynmt/configs/transformer_{name}.yaml\".format(name=name),'w') as f:\n",
        "    f.write(config)"
      ],
      "execution_count": 16,
      "outputs": []
    },
    {
      "cell_type": "markdown",
      "metadata": {
        "id": "pIifxE3Qzuvs"
      },
      "source": [
        "# Train the Model\n",
        "\n",
        "This single line of joeynmt runs the training using the config we made above"
      ]
    },
    {
      "cell_type": "code",
      "metadata": {
        "collapsed": true,
        "id": "6ZBPFwT94WpI",
        "colab": {
          "base_uri": "https://localhost:8080/"
        },
        "outputId": "be28ed36-a1e0-4ba2-fe2f-50a9e2466127"
      },
      "source": [
        "# Train the model\n",
        "\n",
        "!cd joeynmt; python3 -m joeynmt train configs/transformer_$src$tgt.yaml"
      ],
      "execution_count": 17,
      "outputs": [
        {
          "output_type": "stream",
          "name": "stdout",
          "text": [
            "2021-11-22 19:17:58,217 - INFO - root - Hello! This is Joey-NMT (version 1.3).\n",
            "2021-11-22 19:17:58,235 - INFO - joeynmt.data - Loading training data...\n",
            "2021-11-22 19:17:58,409 - INFO - joeynmt.data - Building vocabulary...\n",
            "2021-11-22 19:17:58,730 - INFO - joeynmt.data - Loading dev data...\n",
            "2021-11-22 19:17:58,738 - INFO - joeynmt.data - Loading test data...\n",
            "2021-11-22 19:17:58,746 - INFO - joeynmt.data - Data loaded.\n",
            "2021-11-22 19:17:58,746 - INFO - joeynmt.model - Building an encoder-decoder model...\n",
            "2021-11-22 19:17:59,042 - INFO - joeynmt.model - Enc-dec model built.\n",
            "2021-11-22 19:18:01,823 - INFO - joeynmt.training - Total params: 12140288\n",
            "2021-11-22 19:18:01,829 - WARNING - joeynmt.training - `keep_last_ckpts` option is outdated. Please use `keep_best_ckpts`, instead.\n",
            "2021-11-22 19:18:01,830 - INFO - joeynmt.helpers - cfg.name                           : enzu_transformer\n",
            "2021-11-22 19:18:01,830 - INFO - joeynmt.helpers - cfg.data.src                       : en\n",
            "2021-11-22 19:18:01,830 - INFO - joeynmt.helpers - cfg.data.trg                       : zu\n",
            "2021-11-22 19:18:01,830 - INFO - joeynmt.helpers - cfg.data.train                     : data/enzu/train.bpe\n",
            "2021-11-22 19:18:01,831 - INFO - joeynmt.helpers - cfg.data.dev                       : data/enzu/dev.bpe\n",
            "2021-11-22 19:18:01,831 - INFO - joeynmt.helpers - cfg.data.test                      : data/enzu/test.bpe\n",
            "2021-11-22 19:18:01,831 - INFO - joeynmt.helpers - cfg.data.level                     : bpe\n",
            "2021-11-22 19:18:01,831 - INFO - joeynmt.helpers - cfg.data.lowercase                 : False\n",
            "2021-11-22 19:18:01,831 - INFO - joeynmt.helpers - cfg.data.max_sent_length           : 100\n",
            "2021-11-22 19:18:01,831 - INFO - joeynmt.helpers - cfg.data.src_vocab                 : data/enzu/vocab.txt\n",
            "2021-11-22 19:18:01,831 - INFO - joeynmt.helpers - cfg.data.trg_vocab                 : data/enzu/vocab.txt\n",
            "2021-11-22 19:18:01,831 - INFO - joeynmt.helpers - cfg.testing.beam_size              : 5\n",
            "2021-11-22 19:18:01,831 - INFO - joeynmt.helpers - cfg.testing.alpha                  : 1.0\n",
            "2021-11-22 19:18:01,831 - INFO - joeynmt.helpers - cfg.training.random_seed           : 42\n",
            "2021-11-22 19:18:01,831 - INFO - joeynmt.helpers - cfg.training.optimizer             : adam\n",
            "2021-11-22 19:18:01,831 - INFO - joeynmt.helpers - cfg.training.normalization         : tokens\n",
            "2021-11-22 19:18:01,832 - INFO - joeynmt.helpers - cfg.training.adam_betas            : [0.9, 0.999]\n",
            "2021-11-22 19:18:01,832 - INFO - joeynmt.helpers - cfg.training.scheduling            : plateau\n",
            "2021-11-22 19:18:01,832 - INFO - joeynmt.helpers - cfg.training.patience              : 5\n",
            "2021-11-22 19:18:01,832 - INFO - joeynmt.helpers - cfg.training.learning_rate_factor  : 0.5\n",
            "2021-11-22 19:18:01,832 - INFO - joeynmt.helpers - cfg.training.learning_rate_warmup  : 1000\n",
            "2021-11-22 19:18:01,832 - INFO - joeynmt.helpers - cfg.training.decrease_factor       : 0.7\n",
            "2021-11-22 19:18:01,832 - INFO - joeynmt.helpers - cfg.training.loss                  : crossentropy\n",
            "2021-11-22 19:18:01,832 - INFO - joeynmt.helpers - cfg.training.learning_rate         : 0.0003\n",
            "2021-11-22 19:18:01,832 - INFO - joeynmt.helpers - cfg.training.learning_rate_min     : 1e-08\n",
            "2021-11-22 19:18:01,832 - INFO - joeynmt.helpers - cfg.training.weight_decay          : 0.0\n",
            "2021-11-22 19:18:01,832 - INFO - joeynmt.helpers - cfg.training.label_smoothing       : 0.1\n",
            "2021-11-22 19:18:01,832 - INFO - joeynmt.helpers - cfg.training.batch_size            : 4096\n",
            "2021-11-22 19:18:01,833 - INFO - joeynmt.helpers - cfg.training.batch_type            : token\n",
            "2021-11-22 19:18:01,833 - INFO - joeynmt.helpers - cfg.training.eval_batch_size       : 3600\n",
            "2021-11-22 19:18:01,833 - INFO - joeynmt.helpers - cfg.training.eval_batch_type       : token\n",
            "2021-11-22 19:18:01,833 - INFO - joeynmt.helpers - cfg.training.batch_multiplier      : 1\n",
            "2021-11-22 19:18:01,833 - INFO - joeynmt.helpers - cfg.training.early_stopping_metric : ppl\n",
            "2021-11-22 19:18:01,833 - INFO - joeynmt.helpers - cfg.training.epochs                : 1\n",
            "2021-11-22 19:18:01,833 - INFO - joeynmt.helpers - cfg.training.validation_freq       : 1000\n",
            "2021-11-22 19:18:01,833 - INFO - joeynmt.helpers - cfg.training.logging_freq          : 100\n",
            "2021-11-22 19:18:01,833 - INFO - joeynmt.helpers - cfg.training.eval_metric           : bleu\n",
            "2021-11-22 19:18:01,833 - INFO - joeynmt.helpers - cfg.training.model_dir             : models/enzu_transformer\n",
            "2021-11-22 19:18:01,833 - INFO - joeynmt.helpers - cfg.training.overwrite             : False\n",
            "2021-11-22 19:18:01,833 - INFO - joeynmt.helpers - cfg.training.shuffle               : True\n",
            "2021-11-22 19:18:01,833 - INFO - joeynmt.helpers - cfg.training.use_cuda              : True\n",
            "2021-11-22 19:18:01,834 - INFO - joeynmt.helpers - cfg.training.max_output_length     : 100\n",
            "2021-11-22 19:18:01,834 - INFO - joeynmt.helpers - cfg.training.print_valid_sents     : [0, 1, 2, 3]\n",
            "2021-11-22 19:18:01,834 - INFO - joeynmt.helpers - cfg.training.keep_last_ckpts       : 3\n",
            "2021-11-22 19:18:01,834 - INFO - joeynmt.helpers - cfg.model.initializer              : xavier\n",
            "2021-11-22 19:18:01,834 - INFO - joeynmt.helpers - cfg.model.bias_initializer         : zeros\n",
            "2021-11-22 19:18:01,834 - INFO - joeynmt.helpers - cfg.model.init_gain                : 1.0\n",
            "2021-11-22 19:18:01,834 - INFO - joeynmt.helpers - cfg.model.embed_initializer        : xavier\n",
            "2021-11-22 19:18:01,834 - INFO - joeynmt.helpers - cfg.model.embed_init_gain          : 1.0\n",
            "2021-11-22 19:18:01,835 - INFO - joeynmt.helpers - cfg.model.tied_embeddings          : True\n",
            "2021-11-22 19:18:01,835 - INFO - joeynmt.helpers - cfg.model.tied_softmax             : True\n",
            "2021-11-22 19:18:01,835 - INFO - joeynmt.helpers - cfg.model.encoder.type             : transformer\n",
            "2021-11-22 19:18:01,835 - INFO - joeynmt.helpers - cfg.model.encoder.num_layers       : 6\n",
            "2021-11-22 19:18:01,835 - INFO - joeynmt.helpers - cfg.model.encoder.num_heads        : 4\n",
            "2021-11-22 19:18:01,835 - INFO - joeynmt.helpers - cfg.model.encoder.embeddings.embedding_dim : 256\n",
            "2021-11-22 19:18:01,835 - INFO - joeynmt.helpers - cfg.model.encoder.embeddings.scale : True\n",
            "2021-11-22 19:18:01,835 - INFO - joeynmt.helpers - cfg.model.encoder.embeddings.dropout : 0.2\n",
            "2021-11-22 19:18:01,835 - INFO - joeynmt.helpers - cfg.model.encoder.hidden_size      : 256\n",
            "2021-11-22 19:18:01,835 - INFO - joeynmt.helpers - cfg.model.encoder.ff_size          : 1024\n",
            "2021-11-22 19:18:01,835 - INFO - joeynmt.helpers - cfg.model.encoder.dropout          : 0.3\n",
            "2021-11-22 19:18:01,836 - INFO - joeynmt.helpers - cfg.model.decoder.type             : transformer\n",
            "2021-11-22 19:18:01,836 - INFO - joeynmt.helpers - cfg.model.decoder.num_layers       : 6\n",
            "2021-11-22 19:18:01,836 - INFO - joeynmt.helpers - cfg.model.decoder.num_heads        : 4\n",
            "2021-11-22 19:18:01,836 - INFO - joeynmt.helpers - cfg.model.decoder.embeddings.embedding_dim : 256\n",
            "2021-11-22 19:18:01,836 - INFO - joeynmt.helpers - cfg.model.decoder.embeddings.scale : True\n",
            "2021-11-22 19:18:01,836 - INFO - joeynmt.helpers - cfg.model.decoder.embeddings.dropout : 0.2\n",
            "2021-11-22 19:18:01,836 - INFO - joeynmt.helpers - cfg.model.decoder.hidden_size      : 256\n",
            "2021-11-22 19:18:01,836 - INFO - joeynmt.helpers - cfg.model.decoder.ff_size          : 1024\n",
            "2021-11-22 19:18:01,836 - INFO - joeynmt.helpers - cfg.model.decoder.dropout          : 0.3\n",
            "2021-11-22 19:18:01,836 - INFO - joeynmt.helpers - Data set sizes: \n",
            "\ttrain 4046,\n",
            "\tvalid 598,\n",
            "\ttest 398\n",
            "2021-11-22 19:18:01,836 - INFO - joeynmt.helpers - First training example:\n",
            "\t[SRC] S@@ l@@ ack@@ 's st@@ ock has now f@@ all@@ en nearly 20@@ % from its refer@@ ence pr@@ ice of $@@ 2@@ 4 on the day of its W@@ all Street deb@@ ut@@ .\n",
            "\t[TRG] Is@@ it@@ oko sa@@ kw@@ a-@@ S@@ l@@ ack se@@ hl@@ e ngo-@@ 20@@ % kun@@ t@@ eng@@ o y@@ aso eyay@@ iw@@ u $@@ 2@@ 4 ngesikhathi be@@ qala uku@@ ngena ku-@@ W@@ all Stre@@ et@@ .\n",
            "2021-11-22 19:18:01,837 - INFO - joeynmt.helpers - First 10 words (src): (0) <unk> (1) <pad> (2) <s> (3) </s> (4) the (5) a (6) to (7) and (8) of (9) in\n",
            "2021-11-22 19:18:01,837 - INFO - joeynmt.helpers - First 10 words (trg): (0) <unk> (1) <pad> (2) <s> (3) </s> (4) the (5) a (6) to (7) and (8) of (9) in\n",
            "2021-11-22 19:18:01,837 - INFO - joeynmt.helpers - Number of Src words (types): 4219\n",
            "2021-11-22 19:18:01,837 - INFO - joeynmt.helpers - Number of Trg words (types): 4219\n",
            "2021-11-22 19:18:01,838 - INFO - joeynmt.training - Model(\n",
            "\tencoder=TransformerEncoder(num_layers=6, num_heads=4),\n",
            "\tdecoder=TransformerDecoder(num_layers=6, num_heads=4),\n",
            "\tsrc_embed=Embeddings(embedding_dim=256, vocab_size=4219),\n",
            "\ttrg_embed=Embeddings(embedding_dim=256, vocab_size=4219))\n",
            "2021-11-22 19:18:01,843 - INFO - joeynmt.training - Train stats:\n",
            "\tdevice: cpu\n",
            "\tn_gpu: 0\n",
            "\t16-bits training: False\n",
            "\tgradient accumulation: 1\n",
            "\tbatch size per device: 4096\n",
            "\ttotal batch size (w. parallel & accumulation): 4096\n",
            "2021-11-22 19:18:01,843 - INFO - joeynmt.training - EPOCH 1\n",
            "2021-11-22 19:29:30,416 - INFO - joeynmt.training - Epoch   1: total training loss 626.98\n",
            "2021-11-22 19:29:30,416 - INFO - joeynmt.training - Training ended after   1 epochs.\n",
            "2021-11-22 19:29:30,416 - INFO - joeynmt.training - Best validation result (greedy) at step        0:    inf ppl.\n",
            "2021-11-22 19:29:30,438 - INFO - joeynmt.prediction - Process device: cpu, n_gpu: 0, batch_size per device: 3600\n",
            "2021-11-22 19:29:30,438 - INFO - joeynmt.prediction - Loading model from models/enzu_transformer/0.ckpt\n",
            "Traceback (most recent call last):\n",
            "  File \"/usr/lib/python3.7/runpy.py\", line 193, in _run_module_as_main\n",
            "    \"__main__\", mod_spec)\n",
            "  File \"/usr/lib/python3.7/runpy.py\", line 85, in _run_code\n",
            "    exec(code, run_globals)\n",
            "  File \"/content/joeynmt/joeynmt/__main__.py\", line 48, in <module>\n",
            "    main()\n",
            "  File \"/content/joeynmt/joeynmt/__main__.py\", line 35, in main\n",
            "    train(cfg_file=args.config_path, skip_test=args.skip_test)\n",
            "  File \"/content/joeynmt/joeynmt/training.py\", line 863, in train\n",
            "    datasets=datasets_to_test)\n",
            "  File \"/content/joeynmt/joeynmt/prediction.py\", line 321, in test\n",
            "    model_checkpoint = load_checkpoint(ckpt, use_cuda=use_cuda)\n",
            "  File \"/content/joeynmt/joeynmt/helpers.py\", line 284, in load_checkpoint\n",
            "    assert os.path.isfile(path), \"Checkpoint %s not found\" % path\n",
            "AssertionError: Checkpoint models/enzu_transformer/0.ckpt not found\n"
          ]
        }
      ]
    },
    {
      "cell_type": "code",
      "metadata": {
        "collapsed": true,
        "id": "MBoDS09JM807"
      },
      "source": [
        "# Copy the created models from the notebook storage to google drive for persistant storage\n",
        "!cp -r joeynmt/models/${src}${tgt}_transformer/* \"$gdrive_path/models/${src}${tgt}_transformer/\""
      ],
      "execution_count": 18,
      "outputs": []
    },
    {
      "cell_type": "code",
      "metadata": {
        "collapsed": true,
        "id": "n94wlrCjVc17",
        "colab": {
          "base_uri": "https://localhost:8080/"
        },
        "outputId": "39125b54-ddc7-4860-b3f8-7f7fa6635bd2"
      },
      "source": [
        "# Output our validation accuracy\n",
        "! cat \"$gdrive_path/models/${src}${tgt}_transformer/validations.txt\""
      ],
      "execution_count": 19,
      "outputs": [
        {
          "output_type": "stream",
          "name": "stdout",
          "text": [
            "Steps: 1000\tLoss: 148265.28125\tPPL: 231.62592\tbleu: 0.00324\tLR: 0.00030000\t*\n",
            "Steps: 2000\tLoss: 135292.73438\tPPL: 143.83977\tbleu: 0.00952\tLR: 0.00030000\t*\n",
            "Steps: 3000\tLoss: 127532.99219\tPPL: 108.17163\tbleu: 0.09042\tLR: 0.00030000\t*\n",
            "Steps: 4000\tLoss: 126830.93750\tPPL: 105.41824\tbleu: 0.03029\tLR: 0.00030000\t*\n",
            "Steps: 5000\tLoss: 129406.46875\tPPL: 115.87632\tbleu: 0.08064\tLR: 0.00030000\t\n",
            "Steps: 6000\tLoss: 132847.96875\tPPL: 131.48784\tbleu: 0.09827\tLR: 0.00030000\t\n",
            "Steps: 7000\tLoss: 137281.09375\tPPL: 154.73650\tbleu: 0.04503\tLR: 0.00030000\t\n",
            "Steps: 8000\tLoss: 141955.57812\tPPL: 183.71701\tbleu: 0.04632\tLR: 0.00030000\t\n",
            "Steps: 9000\tLoss: 146092.29688\tPPL: 213.85960\tbleu: 0.06743\tLR: 0.00030000\t\n",
            "Steps: 10000\tLoss: 150476.17188\tPPL: 251.21773\tbleu: 0.04211\tLR: 0.00021000\t\n",
            "Steps: 11000\tLoss: 154296.32812\tPPL: 289.05511\tbleu: 0.07239\tLR: 0.00021000\t\n",
            "Steps: 12000\tLoss: 157909.42188\tPPL: 330.07181\tbleu: 0.06461\tLR: 0.00021000\t\n",
            "Steps: 13000\tLoss: 160908.67188\tPPL: 368.50681\tbleu: 0.04053\tLR: 0.00021000\t\n",
            "Steps: 14000\tLoss: 163450.71875\tPPL: 404.56696\tbleu: 0.03976\tLR: 0.00021000\t\n",
            "Steps: 15000\tLoss: 166579.12500\tPPL: 453.82407\tbleu: 0.04565\tLR: 0.00021000\t\n",
            "Steps: 16000\tLoss: 168707.93750\tPPL: 490.72867\tbleu: 0.04674\tLR: 0.00014700\t\n",
            "Steps: 17000\tLoss: 170818.84375\tPPL: 530.28546\tbleu: 0.07991\tLR: 0.00014700\t\n",
            "Steps: 18000\tLoss: 171931.32812\tPPL: 552.40002\tbleu: 0.06541\tLR: 0.00014700\t\n"
          ]
        }
      ]
    },
    {
      "cell_type": "code",
      "metadata": {
        "collapsed": true,
        "id": "66WhRE9lIhoD",
        "colab": {
          "base_uri": "https://localhost:8080/"
        },
        "outputId": "ea3c0b82-02bb-448d-95ef-3bde6e9ee2da"
      },
      "source": [
        "# Test our model\n",
        "! cd joeynmt; python3 -m joeynmt test \"$gdrive_path/models/${src}${tgt}_transformer/config.yaml\""
      ],
      "execution_count": 20,
      "outputs": [
        {
          "output_type": "stream",
          "name": "stdout",
          "text": [
            "2021-11-22 19:29:33,666 - INFO - root - Hello! This is Joey-NMT (version 1.3).\n",
            "Traceback (most recent call last):\n",
            "  File \"/usr/lib/python3.7/runpy.py\", line 193, in _run_module_as_main\n",
            "    \"__main__\", mod_spec)\n",
            "  File \"/usr/lib/python3.7/runpy.py\", line 85, in _run_code\n",
            "    exec(code, run_globals)\n",
            "  File \"/content/joeynmt/joeynmt/__main__.py\", line 48, in <module>\n",
            "    main()\n",
            "  File \"/content/joeynmt/joeynmt/__main__.py\", line 38, in main\n",
            "    output_path=args.output_path, save_attention=args.save_attention)\n",
            "  File \"/content/joeynmt/joeynmt/prediction.py\", line 287, in test\n",
            "    ckpt = get_latest_checkpoint(model_dir)\n",
            "  File \"/content/joeynmt/joeynmt/helpers.py\", line 272, in get_latest_checkpoint\n",
            "    \"No checkpoint found in directory {}.\".format(ckpt_dir))\n",
            "FileNotFoundError: No checkpoint found in directory models/enzu_transformer.\n"
          ]
        }
      ]
    },
    {
      "cell_type": "code",
      "metadata": {
        "id": "VQPMx-5NhB-L"
      },
      "source": [
        ""
      ],
      "execution_count": 20,
      "outputs": []
    }
  ]
}